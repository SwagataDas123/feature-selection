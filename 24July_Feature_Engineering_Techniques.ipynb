{
  "cells": [
    {
      "cell_type": "markdown",
      "metadata": {
        "id": "view-in-github",
        "colab_type": "text"
      },
      "source": [
        "<a href=\"https://colab.research.google.com/github/SwagataDas123/feature-selection/blob/main/24July_Feature_Engineering_Techniques.ipynb\" target=\"_parent\"><img src=\"https://colab.research.google.com/assets/colab-badge.svg\" alt=\"Open In Colab\"/></a>"
      ]
    },
    {
      "cell_type": "markdown",
      "id": "2dd1efaf",
      "metadata": {
        "id": "2dd1efaf"
      },
      "source": [
        "### Feature Engineering Techniques\n",
        "1) Handling Missing Values<br>\n",
        "a) dropna()<br>\n",
        "b) fillna()\n",
        "\n",
        "2) Encoding Categorical Variables<br>\n",
        "a) Label Encoding<br>\n",
        "b) Find and Replace<br>\n",
        "c) pd.get_dummies()\n",
        "\n",
        "3) Creating New Feature (Creating Date related columns)<br>\n",
        "\n",
        "4) Scaling and Standardization<br>\n",
        "a) StandardScaler<br>\n",
        "b) MinMaxScaler<br>\n",
        "c) Normalize\n",
        "\n",
        "5) Binning<br>\n",
        "6) Groupby<br>"
      ]
    },
    {
      "cell_type": "code",
      "execution_count": null,
      "id": "4469abb8",
      "metadata": {
        "id": "4469abb8"
      },
      "outputs": [],
      "source": [
        "import pandas as pd\n",
        "import numpy as np\n",
        "import matplotlib.pyplot as plt"
      ]
    },
    {
      "cell_type": "markdown",
      "id": "dba35f52",
      "metadata": {
        "id": "dba35f52"
      },
      "source": [
        "#### 1) Handling Missing Values"
      ]
    },
    {
      "cell_type": "code",
      "execution_count": null,
      "id": "9352f814",
      "metadata": {
        "id": "9352f814",
        "outputId": "5ea9d70f-1932-4976-bf7d-6ef0e8dd1131"
      },
      "outputs": [
        {
          "data": {
            "text/html": [
              "<div>\n",
              "<style scoped>\n",
              "    .dataframe tbody tr th:only-of-type {\n",
              "        vertical-align: middle;\n",
              "    }\n",
              "\n",
              "    .dataframe tbody tr th {\n",
              "        vertical-align: top;\n",
              "    }\n",
              "\n",
              "    .dataframe thead th {\n",
              "        text-align: right;\n",
              "    }\n",
              "</style>\n",
              "<table border=\"1\" class=\"dataframe\">\n",
              "  <thead>\n",
              "    <tr style=\"text-align: right;\">\n",
              "      <th></th>\n",
              "      <th>Prod</th>\n",
              "      <th>Sales</th>\n",
              "    </tr>\n",
              "  </thead>\n",
              "  <tbody>\n",
              "    <tr>\n",
              "      <th>0</th>\n",
              "      <td>A</td>\n",
              "      <td>120.0</td>\n",
              "    </tr>\n",
              "    <tr>\n",
              "      <th>1</th>\n",
              "      <td>B</td>\n",
              "      <td>230.0</td>\n",
              "    </tr>\n",
              "    <tr>\n",
              "      <th>2</th>\n",
              "      <td>A</td>\n",
              "      <td>150.0</td>\n",
              "    </tr>\n",
              "    <tr>\n",
              "      <th>3</th>\n",
              "      <td>C</td>\n",
              "      <td>NaN</td>\n",
              "    </tr>\n",
              "    <tr>\n",
              "      <th>4</th>\n",
              "      <td>B</td>\n",
              "      <td>100.0</td>\n",
              "    </tr>\n",
              "  </tbody>\n",
              "</table>\n",
              "</div>"
            ],
            "text/plain": [
              "  Prod  Sales\n",
              "0    A  120.0\n",
              "1    B  230.0\n",
              "2    A  150.0\n",
              "3    C    NaN\n",
              "4    B  100.0"
            ]
          },
          "execution_count": 5,
          "metadata": {},
          "output_type": "execute_result"
        }
      ],
      "source": [
        "d = {'Prod':['A','B','A','C','B','C','C','B',np.nan,'B','A','B','C','B','C'],\n",
        "    'Sales':[120,230,150,np.nan,100,80,180,240,np.nan,140,210,320,450,np.nan,200]}\n",
        "\n",
        "df = pd.DataFrame(d)\n",
        "df.head()"
      ]
    },
    {
      "cell_type": "code",
      "execution_count": null,
      "id": "02b3cf83",
      "metadata": {
        "id": "02b3cf83",
        "outputId": "9f410ada-c9dd-4abe-c0db-95f80bb8d1fd"
      },
      "outputs": [
        {
          "data": {
            "text/plain": [
              "(15, 2)"
            ]
          },
          "execution_count": 15,
          "metadata": {},
          "output_type": "execute_result"
        }
      ],
      "source": [
        "df.shape"
      ]
    },
    {
      "cell_type": "code",
      "execution_count": null,
      "id": "eec02343",
      "metadata": {
        "id": "eec02343",
        "outputId": "1d7d5792-6130-4e42-a13b-0f4013292a06"
      },
      "outputs": [
        {
          "data": {
            "text/plain": [
              "Prod     1\n",
              "Sales    3\n",
              "dtype: int64"
            ]
          },
          "execution_count": 9,
          "metadata": {},
          "output_type": "execute_result"
        }
      ],
      "source": [
        "df.isnull().sum()"
      ]
    },
    {
      "cell_type": "code",
      "execution_count": null,
      "id": "c037cb00",
      "metadata": {
        "id": "c037cb00"
      },
      "outputs": [],
      "source": [
        "df1 = df.copy()"
      ]
    },
    {
      "cell_type": "markdown",
      "id": "b945421c",
      "metadata": {
        "id": "b945421c"
      },
      "source": [
        "#### a) dropna()\n",
        "1) It is used to drop/remove null values.<br>\n",
        "2) it drop the rows containing null values<br>"
      ]
    },
    {
      "cell_type": "code",
      "execution_count": null,
      "id": "21164223",
      "metadata": {
        "id": "21164223",
        "outputId": "7b21ce2c-caa9-463b-9d7d-98dcf4cd1c61"
      },
      "outputs": [
        {
          "data": {
            "text/plain": [
              "Prod     1\n",
              "Sales    3\n",
              "dtype: int64"
            ]
          },
          "execution_count": 11,
          "metadata": {},
          "output_type": "execute_result"
        }
      ],
      "source": [
        "df1.isnull().sum()"
      ]
    },
    {
      "cell_type": "code",
      "execution_count": null,
      "id": "b3a6faa9",
      "metadata": {
        "id": "b3a6faa9"
      },
      "outputs": [],
      "source": [
        "df1.dropna(inplace=True,axis=0) # axis=0 => Row wise"
      ]
    },
    {
      "cell_type": "code",
      "execution_count": null,
      "id": "44f76386",
      "metadata": {
        "id": "44f76386",
        "outputId": "2f659de2-6ab8-4963-9f6f-ea5dce1c1de1"
      },
      "outputs": [
        {
          "data": {
            "text/plain": [
              "Prod     0\n",
              "Sales    0\n",
              "dtype: int64"
            ]
          },
          "execution_count": 13,
          "metadata": {},
          "output_type": "execute_result"
        }
      ],
      "source": [
        "df1.isnull().sum()"
      ]
    },
    {
      "cell_type": "code",
      "execution_count": null,
      "id": "564ee4fd",
      "metadata": {
        "id": "564ee4fd",
        "outputId": "94448e8f-9e57-44b8-c719-6ed7c7929210"
      },
      "outputs": [
        {
          "data": {
            "text/html": [
              "<div>\n",
              "<style scoped>\n",
              "    .dataframe tbody tr th:only-of-type {\n",
              "        vertical-align: middle;\n",
              "    }\n",
              "\n",
              "    .dataframe tbody tr th {\n",
              "        vertical-align: top;\n",
              "    }\n",
              "\n",
              "    .dataframe thead th {\n",
              "        text-align: right;\n",
              "    }\n",
              "</style>\n",
              "<table border=\"1\" class=\"dataframe\">\n",
              "  <thead>\n",
              "    <tr style=\"text-align: right;\">\n",
              "      <th></th>\n",
              "      <th>Prod</th>\n",
              "      <th>Sales</th>\n",
              "    </tr>\n",
              "  </thead>\n",
              "  <tbody>\n",
              "    <tr>\n",
              "      <th>0</th>\n",
              "      <td>A</td>\n",
              "      <td>120.0</td>\n",
              "    </tr>\n",
              "    <tr>\n",
              "      <th>1</th>\n",
              "      <td>B</td>\n",
              "      <td>230.0</td>\n",
              "    </tr>\n",
              "    <tr>\n",
              "      <th>2</th>\n",
              "      <td>A</td>\n",
              "      <td>150.0</td>\n",
              "    </tr>\n",
              "    <tr>\n",
              "      <th>4</th>\n",
              "      <td>B</td>\n",
              "      <td>100.0</td>\n",
              "    </tr>\n",
              "    <tr>\n",
              "      <th>5</th>\n",
              "      <td>C</td>\n",
              "      <td>80.0</td>\n",
              "    </tr>\n",
              "    <tr>\n",
              "      <th>6</th>\n",
              "      <td>C</td>\n",
              "      <td>180.0</td>\n",
              "    </tr>\n",
              "    <tr>\n",
              "      <th>7</th>\n",
              "      <td>B</td>\n",
              "      <td>240.0</td>\n",
              "    </tr>\n",
              "    <tr>\n",
              "      <th>9</th>\n",
              "      <td>B</td>\n",
              "      <td>140.0</td>\n",
              "    </tr>\n",
              "    <tr>\n",
              "      <th>10</th>\n",
              "      <td>A</td>\n",
              "      <td>210.0</td>\n",
              "    </tr>\n",
              "    <tr>\n",
              "      <th>11</th>\n",
              "      <td>B</td>\n",
              "      <td>320.0</td>\n",
              "    </tr>\n",
              "    <tr>\n",
              "      <th>12</th>\n",
              "      <td>C</td>\n",
              "      <td>450.0</td>\n",
              "    </tr>\n",
              "    <tr>\n",
              "      <th>14</th>\n",
              "      <td>C</td>\n",
              "      <td>200.0</td>\n",
              "    </tr>\n",
              "  </tbody>\n",
              "</table>\n",
              "</div>"
            ],
            "text/plain": [
              "   Prod  Sales\n",
              "0     A  120.0\n",
              "1     B  230.0\n",
              "2     A  150.0\n",
              "4     B  100.0\n",
              "5     C   80.0\n",
              "6     C  180.0\n",
              "7     B  240.0\n",
              "9     B  140.0\n",
              "10    A  210.0\n",
              "11    B  320.0\n",
              "12    C  450.0\n",
              "14    C  200.0"
            ]
          },
          "execution_count": 14,
          "metadata": {},
          "output_type": "execute_result"
        }
      ],
      "source": [
        "df1"
      ]
    },
    {
      "cell_type": "code",
      "execution_count": null,
      "id": "1151942f",
      "metadata": {
        "id": "1151942f",
        "outputId": "efd1b28f-7dd7-4888-9427-e901df4c462c"
      },
      "outputs": [
        {
          "data": {
            "text/plain": [
              "(12, 2)"
            ]
          },
          "execution_count": 16,
          "metadata": {},
          "output_type": "execute_result"
        }
      ],
      "source": [
        "df1.shape"
      ]
    },
    {
      "cell_type": "markdown",
      "id": "ea7959a9",
      "metadata": {
        "id": "ea7959a9"
      },
      "source": [
        "#### b) fillna()\n",
        "1) Fill the null value.<br>\n",
        "2) For categorical columns, we fill the null value with mostly mode of the column or we create a new category as 'Other' or 'Null', 'Not Avialable'.<br>\n",
        "3) For continuous columns, we handle the null values with methods like mean imputation, ffill,bfill, interpolate, median imputation etc."
      ]
    },
    {
      "cell_type": "code",
      "execution_count": null,
      "id": "3a728229",
      "metadata": {
        "id": "3a728229",
        "outputId": "4420e622-69fc-4b57-f759-6d37e634c0a8"
      },
      "outputs": [
        {
          "data": {
            "text/plain": [
              "Prod     1\n",
              "Sales    3\n",
              "dtype: int64"
            ]
          },
          "execution_count": 21,
          "metadata": {},
          "output_type": "execute_result"
        }
      ],
      "source": [
        "df2 = df.copy()\n",
        "df2.isnull().sum()"
      ]
    },
    {
      "cell_type": "code",
      "execution_count": null,
      "id": "371dc548",
      "metadata": {
        "id": "371dc548",
        "outputId": "7fa9a05f-6d6f-4743-b392-4646bfca7e3b"
      },
      "outputs": [
        {
          "data": {
            "text/html": [
              "<div>\n",
              "<style scoped>\n",
              "    .dataframe tbody tr th:only-of-type {\n",
              "        vertical-align: middle;\n",
              "    }\n",
              "\n",
              "    .dataframe tbody tr th {\n",
              "        vertical-align: top;\n",
              "    }\n",
              "\n",
              "    .dataframe thead th {\n",
              "        text-align: right;\n",
              "    }\n",
              "</style>\n",
              "<table border=\"1\" class=\"dataframe\">\n",
              "  <thead>\n",
              "    <tr style=\"text-align: right;\">\n",
              "      <th></th>\n",
              "      <th>Prod</th>\n",
              "      <th>Sales</th>\n",
              "    </tr>\n",
              "  </thead>\n",
              "  <tbody>\n",
              "    <tr>\n",
              "      <th>9</th>\n",
              "      <td>B</td>\n",
              "      <td>140.0</td>\n",
              "    </tr>\n",
              "    <tr>\n",
              "      <th>1</th>\n",
              "      <td>B</td>\n",
              "      <td>230.0</td>\n",
              "    </tr>\n",
              "    <tr>\n",
              "      <th>12</th>\n",
              "      <td>C</td>\n",
              "      <td>450.0</td>\n",
              "    </tr>\n",
              "    <tr>\n",
              "      <th>8</th>\n",
              "      <td>NaN</td>\n",
              "      <td>NaN</td>\n",
              "    </tr>\n",
              "    <tr>\n",
              "      <th>0</th>\n",
              "      <td>A</td>\n",
              "      <td>120.0</td>\n",
              "    </tr>\n",
              "  </tbody>\n",
              "</table>\n",
              "</div>"
            ],
            "text/plain": [
              "   Prod  Sales\n",
              "9     B  140.0\n",
              "1     B  230.0\n",
              "12    C  450.0\n",
              "8   NaN    NaN\n",
              "0     A  120.0"
            ]
          },
          "execution_count": 23,
          "metadata": {},
          "output_type": "execute_result"
        }
      ],
      "source": [
        "df2.sample(5)"
      ]
    },
    {
      "cell_type": "code",
      "execution_count": null,
      "id": "e6de7277",
      "metadata": {
        "id": "e6de7277",
        "outputId": "f5ec9b1f-4140-4af1-dda1-ba4e26dbcce8"
      },
      "outputs": [
        {
          "data": {
            "text/plain": [
              "B    6\n",
              "C    5\n",
              "A    3\n",
              "Name: Prod, dtype: int64"
            ]
          },
          "execution_count": 24,
          "metadata": {},
          "output_type": "execute_result"
        }
      ],
      "source": [
        "df['Prod'].value_counts()"
      ]
    },
    {
      "cell_type": "code",
      "execution_count": null,
      "id": "6490ccd2",
      "metadata": {
        "id": "6490ccd2",
        "outputId": "eb85ea99-c843-4f16-97fc-467618545748"
      },
      "outputs": [
        {
          "data": {
            "text/plain": [
              "Prod     1\n",
              "Sales    0\n",
              "dtype: int64"
            ]
          },
          "execution_count": 26,
          "metadata": {},
          "output_type": "execute_result"
        }
      ],
      "source": [
        "df2['Sales'].fillna(df2['Sales'].mean(),inplace=True)\n",
        "df2.isnull().sum()"
      ]
    },
    {
      "cell_type": "code",
      "execution_count": null,
      "id": "a628b9af",
      "metadata": {
        "id": "a628b9af",
        "outputId": "4870d0ee-4f64-4414-fb67-06a40c6df148"
      },
      "outputs": [
        {
          "data": {
            "text/html": [
              "<div>\n",
              "<style scoped>\n",
              "    .dataframe tbody tr th:only-of-type {\n",
              "        vertical-align: middle;\n",
              "    }\n",
              "\n",
              "    .dataframe tbody tr th {\n",
              "        vertical-align: top;\n",
              "    }\n",
              "\n",
              "    .dataframe thead th {\n",
              "        text-align: right;\n",
              "    }\n",
              "</style>\n",
              "<table border=\"1\" class=\"dataframe\">\n",
              "  <thead>\n",
              "    <tr style=\"text-align: right;\">\n",
              "      <th></th>\n",
              "      <th>Prod</th>\n",
              "      <th>Sales</th>\n",
              "    </tr>\n",
              "  </thead>\n",
              "  <tbody>\n",
              "    <tr>\n",
              "      <th>0</th>\n",
              "      <td>A</td>\n",
              "      <td>120.000000</td>\n",
              "    </tr>\n",
              "    <tr>\n",
              "      <th>1</th>\n",
              "      <td>B</td>\n",
              "      <td>230.000000</td>\n",
              "    </tr>\n",
              "    <tr>\n",
              "      <th>2</th>\n",
              "      <td>A</td>\n",
              "      <td>150.000000</td>\n",
              "    </tr>\n",
              "    <tr>\n",
              "      <th>3</th>\n",
              "      <td>C</td>\n",
              "      <td>201.666667</td>\n",
              "    </tr>\n",
              "    <tr>\n",
              "      <th>4</th>\n",
              "      <td>B</td>\n",
              "      <td>100.000000</td>\n",
              "    </tr>\n",
              "  </tbody>\n",
              "</table>\n",
              "</div>"
            ],
            "text/plain": [
              "  Prod       Sales\n",
              "0    A  120.000000\n",
              "1    B  230.000000\n",
              "2    A  150.000000\n",
              "3    C  201.666667\n",
              "4    B  100.000000"
            ]
          },
          "execution_count": 27,
          "metadata": {},
          "output_type": "execute_result"
        }
      ],
      "source": [
        "df2.head()"
      ]
    },
    {
      "cell_type": "code",
      "execution_count": null,
      "id": "c7ff6e2c",
      "metadata": {
        "id": "c7ff6e2c",
        "outputId": "cf14d08b-55ab-489b-f0bc-c37ed7ad788c"
      },
      "outputs": [
        {
          "data": {
            "text/plain": [
              "B    6\n",
              "C    5\n",
              "A    3\n",
              "Name: Prod, dtype: int64"
            ]
          },
          "execution_count": 28,
          "metadata": {},
          "output_type": "execute_result"
        }
      ],
      "source": [
        "df2['Prod'].value_counts()"
      ]
    },
    {
      "cell_type": "code",
      "execution_count": null,
      "id": "129741e6",
      "metadata": {
        "id": "129741e6",
        "outputId": "0535ba2c-c4e4-4ece-f67b-85dd8bfa4715"
      },
      "outputs": [
        {
          "data": {
            "text/plain": [
              "Prod     0\n",
              "Sales    0\n",
              "dtype: int64"
            ]
          },
          "execution_count": 29,
          "metadata": {},
          "output_type": "execute_result"
        }
      ],
      "source": [
        "df2['Prod'].fillna('B',inplace=True)\n",
        "df2.isnull().sum()"
      ]
    },
    {
      "cell_type": "code",
      "execution_count": null,
      "id": "1360b827",
      "metadata": {
        "id": "1360b827",
        "outputId": "fc7e8c85-710e-4701-fcf8-3b3d7bd3eb19"
      },
      "outputs": [
        {
          "data": {
            "text/html": [
              "<div>\n",
              "<style scoped>\n",
              "    .dataframe tbody tr th:only-of-type {\n",
              "        vertical-align: middle;\n",
              "    }\n",
              "\n",
              "    .dataframe tbody tr th {\n",
              "        vertical-align: top;\n",
              "    }\n",
              "\n",
              "    .dataframe thead th {\n",
              "        text-align: right;\n",
              "    }\n",
              "</style>\n",
              "<table border=\"1\" class=\"dataframe\">\n",
              "  <thead>\n",
              "    <tr style=\"text-align: right;\">\n",
              "      <th></th>\n",
              "      <th>Prod</th>\n",
              "      <th>Sales</th>\n",
              "    </tr>\n",
              "  </thead>\n",
              "  <tbody>\n",
              "    <tr>\n",
              "      <th>0</th>\n",
              "      <td>A</td>\n",
              "      <td>120.000000</td>\n",
              "    </tr>\n",
              "    <tr>\n",
              "      <th>1</th>\n",
              "      <td>B</td>\n",
              "      <td>230.000000</td>\n",
              "    </tr>\n",
              "    <tr>\n",
              "      <th>2</th>\n",
              "      <td>A</td>\n",
              "      <td>150.000000</td>\n",
              "    </tr>\n",
              "    <tr>\n",
              "      <th>3</th>\n",
              "      <td>C</td>\n",
              "      <td>201.666667</td>\n",
              "    </tr>\n",
              "    <tr>\n",
              "      <th>4</th>\n",
              "      <td>B</td>\n",
              "      <td>100.000000</td>\n",
              "    </tr>\n",
              "  </tbody>\n",
              "</table>\n",
              "</div>"
            ],
            "text/plain": [
              "  Prod       Sales\n",
              "0    A  120.000000\n",
              "1    B  230.000000\n",
              "2    A  150.000000\n",
              "3    C  201.666667\n",
              "4    B  100.000000"
            ]
          },
          "execution_count": 31,
          "metadata": {},
          "output_type": "execute_result"
        }
      ],
      "source": [
        "df2.head()"
      ]
    },
    {
      "cell_type": "markdown",
      "id": "08721e1e",
      "metadata": {
        "id": "08721e1e"
      },
      "source": [
        "### 2) Encoding Categorical Columns\n",
        "1) Label Encoding - <br>\n",
        "2) find and replace - <br>\n",
        "3) pd.get_dummies() - <br>"
      ]
    },
    {
      "cell_type": "code",
      "execution_count": null,
      "id": "11dad852",
      "metadata": {
        "id": "11dad852",
        "outputId": "ea5f0a7b-2452-404b-c4a4-44ee72bb0fcf"
      },
      "outputs": [
        {
          "data": {
            "text/html": [
              "<div>\n",
              "<style scoped>\n",
              "    .dataframe tbody tr th:only-of-type {\n",
              "        vertical-align: middle;\n",
              "    }\n",
              "\n",
              "    .dataframe tbody tr th {\n",
              "        vertical-align: top;\n",
              "    }\n",
              "\n",
              "    .dataframe thead th {\n",
              "        text-align: right;\n",
              "    }\n",
              "</style>\n",
              "<table border=\"1\" class=\"dataframe\">\n",
              "  <thead>\n",
              "    <tr style=\"text-align: right;\">\n",
              "      <th></th>\n",
              "      <th>State</th>\n",
              "      <th>Month</th>\n",
              "      <th>Prod</th>\n",
              "    </tr>\n",
              "  </thead>\n",
              "  <tbody>\n",
              "    <tr>\n",
              "      <th>0</th>\n",
              "      <td>UP</td>\n",
              "      <td>Jan</td>\n",
              "      <td>A1</td>\n",
              "    </tr>\n",
              "    <tr>\n",
              "      <th>1</th>\n",
              "      <td>MP</td>\n",
              "      <td>Feb</td>\n",
              "      <td>B2</td>\n",
              "    </tr>\n",
              "    <tr>\n",
              "      <th>2</th>\n",
              "      <td>Goa</td>\n",
              "      <td>Apr</td>\n",
              "      <td>A1</td>\n",
              "    </tr>\n",
              "    <tr>\n",
              "      <th>3</th>\n",
              "      <td>AP</td>\n",
              "      <td>Mar</td>\n",
              "      <td>B1</td>\n",
              "    </tr>\n",
              "    <tr>\n",
              "      <th>4</th>\n",
              "      <td>Goa</td>\n",
              "      <td>Feb</td>\n",
              "      <td>C2</td>\n",
              "    </tr>\n",
              "  </tbody>\n",
              "</table>\n",
              "</div>"
            ],
            "text/plain": [
              "  State Month Prod\n",
              "0    UP   Jan   A1\n",
              "1    MP   Feb   B2\n",
              "2   Goa   Apr   A1\n",
              "3    AP   Mar   B1\n",
              "4   Goa   Feb   C2"
            ]
          },
          "execution_count": 49,
          "metadata": {},
          "output_type": "execute_result"
        }
      ],
      "source": [
        "d1 = {'State' :['UP','MP','Goa','AP','Goa','UP','MP'],\n",
        "     'Month':['Jan','Feb','Apr','Mar','Feb','Apr','Apr'],\n",
        "     'Prod':['A1','B2','A1','B1','C2','C2','B2']}\n",
        "dfcc = pd.DataFrame(d1)\n",
        "dfcc.head()"
      ]
    },
    {
      "cell_type": "code",
      "execution_count": null,
      "id": "203b2577",
      "metadata": {
        "id": "203b2577",
        "outputId": "8d20603f-b8d5-4fa3-8cc9-8dfd00c67050"
      },
      "outputs": [
        {
          "data": {
            "text/plain": [
              "(7, 3)"
            ]
          },
          "execution_count": 50,
          "metadata": {},
          "output_type": "execute_result"
        }
      ],
      "source": [
        "dfcc.shape"
      ]
    },
    {
      "cell_type": "code",
      "execution_count": null,
      "id": "2f427c63",
      "metadata": {
        "id": "2f427c63",
        "outputId": "1ddc0c92-9b3e-43a2-ca35-a0346eae1f45"
      },
      "outputs": [
        {
          "data": {
            "text/plain": [
              "State    object\n",
              "Month    object\n",
              "Prod     object\n",
              "dtype: object"
            ]
          },
          "execution_count": 51,
          "metadata": {},
          "output_type": "execute_result"
        }
      ],
      "source": [
        "dfcc.dtypes"
      ]
    },
    {
      "cell_type": "markdown",
      "id": "d4bb625f",
      "metadata": {
        "id": "d4bb625f"
      },
      "source": [
        "#### a) Label Encoding"
      ]
    },
    {
      "cell_type": "code",
      "execution_count": null,
      "id": "7555f14a",
      "metadata": {
        "id": "7555f14a"
      },
      "outputs": [],
      "source": [
        "from sklearn.preprocessing import LabelEncoder\n",
        "lb = LabelEncoder()"
      ]
    },
    {
      "cell_type": "code",
      "execution_count": null,
      "id": "77a5bda5",
      "metadata": {
        "id": "77a5bda5",
        "outputId": "7d708af8-948b-4ec8-e910-3eb9d545a4ad"
      },
      "outputs": [
        {
          "data": {
            "text/plain": [
              "Apr    3\n",
              "Feb    2\n",
              "Mar    1\n",
              "Jan    1\n",
              "Name: Month, dtype: int64"
            ]
          },
          "execution_count": 54,
          "metadata": {},
          "output_type": "execute_result"
        }
      ],
      "source": [
        "dfcc['Month'].value_counts()"
      ]
    },
    {
      "cell_type": "code",
      "execution_count": null,
      "id": "af99a5c4",
      "metadata": {
        "id": "af99a5c4",
        "outputId": "3e828314-3be4-45e1-ebad-fbe47860d423"
      },
      "outputs": [
        {
          "data": {
            "text/plain": [
              "0    3\n",
              "1    2\n",
              "2    1\n",
              "3    1\n",
              "Name: Month, dtype: int64"
            ]
          },
          "execution_count": 56,
          "metadata": {},
          "output_type": "execute_result"
        }
      ],
      "source": [
        "dfcc['Month'] = lb.fit_transform(dfcc['Month'])\n",
        "dfcc['Month'].value_counts()"
      ]
    },
    {
      "cell_type": "code",
      "execution_count": null,
      "id": "982158bf",
      "metadata": {
        "id": "982158bf",
        "outputId": "19eede4b-b644-466b-de54-bbe4f7bbfee9"
      },
      "outputs": [
        {
          "data": {
            "text/plain": [
              "State    object\n",
              "Month     int64\n",
              "Prod     object\n",
              "dtype: object"
            ]
          },
          "execution_count": 57,
          "metadata": {},
          "output_type": "execute_result"
        }
      ],
      "source": [
        "dfcc.dtypes"
      ]
    },
    {
      "cell_type": "markdown",
      "id": "1ac29aa2",
      "metadata": {
        "id": "1ac29aa2"
      },
      "source": [
        "#### b) Find and replace"
      ]
    },
    {
      "cell_type": "code",
      "execution_count": null,
      "id": "a3d4565d",
      "metadata": {
        "id": "a3d4565d",
        "outputId": "789ed4c4-9589-4159-b7fe-e0f5ce72645f"
      },
      "outputs": [
        {
          "data": {
            "text/plain": [
              "Goa    2\n",
              "MP     2\n",
              "UP     2\n",
              "AP     1\n",
              "Name: State, dtype: int64"
            ]
          },
          "execution_count": 59,
          "metadata": {},
          "output_type": "execute_result"
        }
      ],
      "source": [
        "dfcc['State'].value_counts()"
      ]
    },
    {
      "cell_type": "code",
      "execution_count": null,
      "id": "06700fe5",
      "metadata": {
        "id": "06700fe5",
        "outputId": "b7eb37c4-a505-4d08-a25a-c07d240917b3"
      },
      "outputs": [
        {
          "data": {
            "text/plain": [
              "10    2\n",
              "20    2\n",
              "15    2\n",
              "25    1\n",
              "Name: State, dtype: int64"
            ]
          },
          "execution_count": 61,
          "metadata": {},
          "output_type": "execute_result"
        }
      ],
      "source": [
        "dfcc['State'] = dfcc['State'].replace({'UP':10,'Goa':15,'MP':20,'AP':25})\n",
        "dfcc['State'].value_counts()"
      ]
    },
    {
      "cell_type": "code",
      "execution_count": null,
      "id": "bec71736",
      "metadata": {
        "id": "bec71736",
        "outputId": "537fd3fd-60eb-4b25-f093-0d01994b21aa"
      },
      "outputs": [
        {
          "data": {
            "text/plain": [
              "State     int64\n",
              "Month     int64\n",
              "Prod     object\n",
              "dtype: object"
            ]
          },
          "execution_count": 62,
          "metadata": {},
          "output_type": "execute_result"
        }
      ],
      "source": [
        "dfcc.dtypes"
      ]
    },
    {
      "cell_type": "code",
      "execution_count": null,
      "id": "6f92c0db",
      "metadata": {
        "id": "6f92c0db",
        "outputId": "b91e0d9e-f835-444d-a580-1daeebaef012"
      },
      "outputs": [
        {
          "data": {
            "text/html": [
              "<div>\n",
              "<style scoped>\n",
              "    .dataframe tbody tr th:only-of-type {\n",
              "        vertical-align: middle;\n",
              "    }\n",
              "\n",
              "    .dataframe tbody tr th {\n",
              "        vertical-align: top;\n",
              "    }\n",
              "\n",
              "    .dataframe thead th {\n",
              "        text-align: right;\n",
              "    }\n",
              "</style>\n",
              "<table border=\"1\" class=\"dataframe\">\n",
              "  <thead>\n",
              "    <tr style=\"text-align: right;\">\n",
              "      <th></th>\n",
              "      <th>State</th>\n",
              "      <th>Month</th>\n",
              "      <th>Prod</th>\n",
              "    </tr>\n",
              "  </thead>\n",
              "  <tbody>\n",
              "    <tr>\n",
              "      <th>0</th>\n",
              "      <td>10</td>\n",
              "      <td>2</td>\n",
              "      <td>A1</td>\n",
              "    </tr>\n",
              "    <tr>\n",
              "      <th>1</th>\n",
              "      <td>20</td>\n",
              "      <td>1</td>\n",
              "      <td>B2</td>\n",
              "    </tr>\n",
              "    <tr>\n",
              "      <th>2</th>\n",
              "      <td>15</td>\n",
              "      <td>0</td>\n",
              "      <td>A1</td>\n",
              "    </tr>\n",
              "    <tr>\n",
              "      <th>3</th>\n",
              "      <td>25</td>\n",
              "      <td>3</td>\n",
              "      <td>B1</td>\n",
              "    </tr>\n",
              "    <tr>\n",
              "      <th>4</th>\n",
              "      <td>15</td>\n",
              "      <td>1</td>\n",
              "      <td>C2</td>\n",
              "    </tr>\n",
              "  </tbody>\n",
              "</table>\n",
              "</div>"
            ],
            "text/plain": [
              "   State  Month Prod\n",
              "0     10      2   A1\n",
              "1     20      1   B2\n",
              "2     15      0   A1\n",
              "3     25      3   B1\n",
              "4     15      1   C2"
            ]
          },
          "execution_count": 63,
          "metadata": {},
          "output_type": "execute_result"
        }
      ],
      "source": [
        "dfcc.head()"
      ]
    },
    {
      "cell_type": "code",
      "execution_count": null,
      "id": "4e9de9ef",
      "metadata": {
        "id": "4e9de9ef",
        "outputId": "9d02cee5-7f8e-4283-ca40-984754045118"
      },
      "outputs": [
        {
          "data": {
            "text/plain": [
              "A1    2\n",
              "B2    2\n",
              "C2    2\n",
              "B1    1\n",
              "Name: Prod, dtype: int64"
            ]
          },
          "execution_count": 64,
          "metadata": {},
          "output_type": "execute_result"
        }
      ],
      "source": [
        "dfcc['Prod'].value_counts()"
      ]
    },
    {
      "cell_type": "markdown",
      "id": "dff6398b",
      "metadata": {
        "id": "dff6398b"
      },
      "source": [
        "#### c) pd.get_dummies()\n",
        "1) It genearates a dataframe.<br>\n",
        "2) It creates as many columns as there are categories in the columns that needs to be encoded<br>"
      ]
    },
    {
      "cell_type": "code",
      "execution_count": null,
      "id": "e6b9f8dc",
      "metadata": {
        "id": "e6b9f8dc",
        "outputId": "464d1f9b-dd21-4b95-dd17-cf5cc7cfa901"
      },
      "outputs": [
        {
          "data": {
            "text/html": [
              "<div>\n",
              "<style scoped>\n",
              "    .dataframe tbody tr th:only-of-type {\n",
              "        vertical-align: middle;\n",
              "    }\n",
              "\n",
              "    .dataframe tbody tr th {\n",
              "        vertical-align: top;\n",
              "    }\n",
              "\n",
              "    .dataframe thead th {\n",
              "        text-align: right;\n",
              "    }\n",
              "</style>\n",
              "<table border=\"1\" class=\"dataframe\">\n",
              "  <thead>\n",
              "    <tr style=\"text-align: right;\">\n",
              "      <th></th>\n",
              "      <th>State</th>\n",
              "      <th>Month</th>\n",
              "      <th>Prod_A1</th>\n",
              "      <th>Prod_B1</th>\n",
              "      <th>Prod_B2</th>\n",
              "      <th>Prod_C2</th>\n",
              "    </tr>\n",
              "  </thead>\n",
              "  <tbody>\n",
              "    <tr>\n",
              "      <th>0</th>\n",
              "      <td>10</td>\n",
              "      <td>2</td>\n",
              "      <td>1</td>\n",
              "      <td>0</td>\n",
              "      <td>0</td>\n",
              "      <td>0</td>\n",
              "    </tr>\n",
              "    <tr>\n",
              "      <th>1</th>\n",
              "      <td>20</td>\n",
              "      <td>1</td>\n",
              "      <td>0</td>\n",
              "      <td>0</td>\n",
              "      <td>1</td>\n",
              "      <td>0</td>\n",
              "    </tr>\n",
              "    <tr>\n",
              "      <th>2</th>\n",
              "      <td>15</td>\n",
              "      <td>0</td>\n",
              "      <td>1</td>\n",
              "      <td>0</td>\n",
              "      <td>0</td>\n",
              "      <td>0</td>\n",
              "    </tr>\n",
              "    <tr>\n",
              "      <th>3</th>\n",
              "      <td>25</td>\n",
              "      <td>3</td>\n",
              "      <td>0</td>\n",
              "      <td>1</td>\n",
              "      <td>0</td>\n",
              "      <td>0</td>\n",
              "    </tr>\n",
              "    <tr>\n",
              "      <th>4</th>\n",
              "      <td>15</td>\n",
              "      <td>1</td>\n",
              "      <td>0</td>\n",
              "      <td>0</td>\n",
              "      <td>0</td>\n",
              "      <td>1</td>\n",
              "    </tr>\n",
              "    <tr>\n",
              "      <th>5</th>\n",
              "      <td>10</td>\n",
              "      <td>0</td>\n",
              "      <td>0</td>\n",
              "      <td>0</td>\n",
              "      <td>0</td>\n",
              "      <td>1</td>\n",
              "    </tr>\n",
              "    <tr>\n",
              "      <th>6</th>\n",
              "      <td>20</td>\n",
              "      <td>0</td>\n",
              "      <td>0</td>\n",
              "      <td>0</td>\n",
              "      <td>1</td>\n",
              "      <td>0</td>\n",
              "    </tr>\n",
              "  </tbody>\n",
              "</table>\n",
              "</div>"
            ],
            "text/plain": [
              "   State  Month  Prod_A1  Prod_B1  Prod_B2  Prod_C2\n",
              "0     10      2        1        0        0        0\n",
              "1     20      1        0        0        1        0\n",
              "2     15      0        1        0        0        0\n",
              "3     25      3        0        1        0        0\n",
              "4     15      1        0        0        0        1\n",
              "5     10      0        0        0        0        1\n",
              "6     20      0        0        0        1        0"
            ]
          },
          "execution_count": 65,
          "metadata": {},
          "output_type": "execute_result"
        }
      ],
      "source": [
        "dfcc2 = pd.get_dummies(data=dfcc,columns=['Prod'])\n",
        "dfcc2"
      ]
    },
    {
      "cell_type": "markdown",
      "id": "a52794d6",
      "metadata": {
        "id": "a52794d6"
      },
      "source": [
        "### 3) Creating New Columns (Date related columns)"
      ]
    },
    {
      "cell_type": "code",
      "execution_count": null,
      "id": "5d52b89e",
      "metadata": {
        "id": "5d52b89e",
        "outputId": "8edeba06-60ce-4bd6-8b53-6327c5f63240"
      },
      "outputs": [
        {
          "data": {
            "text/html": [
              "<div>\n",
              "<style scoped>\n",
              "    .dataframe tbody tr th:only-of-type {\n",
              "        vertical-align: middle;\n",
              "    }\n",
              "\n",
              "    .dataframe tbody tr th {\n",
              "        vertical-align: top;\n",
              "    }\n",
              "\n",
              "    .dataframe thead th {\n",
              "        text-align: right;\n",
              "    }\n",
              "</style>\n",
              "<table border=\"1\" class=\"dataframe\">\n",
              "  <thead>\n",
              "    <tr style=\"text-align: right;\">\n",
              "      <th></th>\n",
              "      <th>Dates</th>\n",
              "    </tr>\n",
              "  </thead>\n",
              "  <tbody>\n",
              "    <tr>\n",
              "      <th>0</th>\n",
              "      <td>2019-03-19</td>\n",
              "    </tr>\n",
              "    <tr>\n",
              "      <th>1</th>\n",
              "      <td>2022-10-12</td>\n",
              "    </tr>\n",
              "    <tr>\n",
              "      <th>2</th>\n",
              "      <td>2021-07-05</td>\n",
              "    </tr>\n",
              "    <tr>\n",
              "      <th>3</th>\n",
              "      <td>2020-01-26</td>\n",
              "    </tr>\n",
              "    <tr>\n",
              "      <th>4</th>\n",
              "      <td>2021-05-24</td>\n",
              "    </tr>\n",
              "  </tbody>\n",
              "</table>\n",
              "</div>"
            ],
            "text/plain": [
              "        Dates\n",
              "0  2019-03-19\n",
              "1  2022-10-12\n",
              "2  2021-07-05\n",
              "3  2020-01-26\n",
              "4  2021-05-24"
            ]
          },
          "execution_count": 68,
          "metadata": {},
          "output_type": "execute_result"
        }
      ],
      "source": [
        "# Date-Format : YYYY-MM-DD  or YYYY/MM/DD\n",
        "d3 = {'Dates':['2019-03-19','2022-10-12','2021-07-05','2020-01-26','2021-05-24']}\n",
        "dw = pd.DataFrame(d3)\n",
        "dw.head()"
      ]
    },
    {
      "cell_type": "markdown",
      "id": "0a887a73",
      "metadata": {
        "id": "0a887a73"
      },
      "source": [
        "#### Q) How to create Year, Quarter, Month, Date, week columns from Dates column in dataframe dw"
      ]
    },
    {
      "cell_type": "code",
      "execution_count": null,
      "id": "a478b35b",
      "metadata": {
        "id": "a478b35b",
        "outputId": "d263527f-f2f7-44cb-b82b-ad5041c48d63"
      },
      "outputs": [
        {
          "data": {
            "text/plain": [
              "Dates    object\n",
              "dtype: object"
            ]
          },
          "execution_count": 69,
          "metadata": {},
          "output_type": "execute_result"
        }
      ],
      "source": [
        "dw.dtypes"
      ]
    },
    {
      "cell_type": "code",
      "execution_count": null,
      "id": "3384ea55",
      "metadata": {
        "id": "3384ea55",
        "outputId": "d3272b00-783d-450d-d590-0dac1ec02842"
      },
      "outputs": [
        {
          "ename": "AttributeError",
          "evalue": "Can only use .dt accessor with datetimelike values",
          "output_type": "error",
          "traceback": [
            "\u001b[1;31m---------------------------------------------------------------------------\u001b[0m",
            "\u001b[1;31mAttributeError\u001b[0m                            Traceback (most recent call last)",
            "\u001b[1;32m<ipython-input-70-56ff8c0ae4b2>\u001b[0m in \u001b[0;36m<module>\u001b[1;34m\u001b[0m\n\u001b[1;32m----> 1\u001b[1;33m \u001b[0mdw\u001b[0m\u001b[1;33m[\u001b[0m\u001b[1;34m'Year'\u001b[0m\u001b[1;33m]\u001b[0m \u001b[1;33m=\u001b[0m \u001b[0mdw\u001b[0m\u001b[1;33m[\u001b[0m\u001b[1;34m'Dates'\u001b[0m\u001b[1;33m]\u001b[0m\u001b[1;33m.\u001b[0m\u001b[0mdt\u001b[0m\u001b[1;33m.\u001b[0m\u001b[0myear\u001b[0m\u001b[1;33m\u001b[0m\u001b[1;33m\u001b[0m\u001b[0m\n\u001b[0m",
            "\u001b[1;32m~\\anaconda3\\lib\\site-packages\\pandas\\core\\generic.py\u001b[0m in \u001b[0;36m__getattr__\u001b[1;34m(self, name)\u001b[0m\n\u001b[0;32m   5459\u001b[0m             \u001b[1;32mor\u001b[0m \u001b[0mname\u001b[0m \u001b[1;32min\u001b[0m \u001b[0mself\u001b[0m\u001b[1;33m.\u001b[0m\u001b[0m_accessors\u001b[0m\u001b[1;33m\u001b[0m\u001b[1;33m\u001b[0m\u001b[0m\n\u001b[0;32m   5460\u001b[0m         ):\n\u001b[1;32m-> 5461\u001b[1;33m             \u001b[1;32mreturn\u001b[0m \u001b[0mobject\u001b[0m\u001b[1;33m.\u001b[0m\u001b[0m__getattribute__\u001b[0m\u001b[1;33m(\u001b[0m\u001b[0mself\u001b[0m\u001b[1;33m,\u001b[0m \u001b[0mname\u001b[0m\u001b[1;33m)\u001b[0m\u001b[1;33m\u001b[0m\u001b[1;33m\u001b[0m\u001b[0m\n\u001b[0m\u001b[0;32m   5462\u001b[0m         \u001b[1;32melse\u001b[0m\u001b[1;33m:\u001b[0m\u001b[1;33m\u001b[0m\u001b[1;33m\u001b[0m\u001b[0m\n\u001b[0;32m   5463\u001b[0m             \u001b[1;32mif\u001b[0m \u001b[0mself\u001b[0m\u001b[1;33m.\u001b[0m\u001b[0m_info_axis\u001b[0m\u001b[1;33m.\u001b[0m\u001b[0m_can_hold_identifiers_and_holds_name\u001b[0m\u001b[1;33m(\u001b[0m\u001b[0mname\u001b[0m\u001b[1;33m)\u001b[0m\u001b[1;33m:\u001b[0m\u001b[1;33m\u001b[0m\u001b[1;33m\u001b[0m\u001b[0m\n",
            "\u001b[1;32m~\\anaconda3\\lib\\site-packages\\pandas\\core\\accessor.py\u001b[0m in \u001b[0;36m__get__\u001b[1;34m(self, obj, cls)\u001b[0m\n\u001b[0;32m    178\u001b[0m             \u001b[1;31m# we're accessing the attribute of the class, i.e., Dataset.geo\u001b[0m\u001b[1;33m\u001b[0m\u001b[1;33m\u001b[0m\u001b[1;33m\u001b[0m\u001b[0m\n\u001b[0;32m    179\u001b[0m             \u001b[1;32mreturn\u001b[0m \u001b[0mself\u001b[0m\u001b[1;33m.\u001b[0m\u001b[0m_accessor\u001b[0m\u001b[1;33m\u001b[0m\u001b[1;33m\u001b[0m\u001b[0m\n\u001b[1;32m--> 180\u001b[1;33m         \u001b[0maccessor_obj\u001b[0m \u001b[1;33m=\u001b[0m \u001b[0mself\u001b[0m\u001b[1;33m.\u001b[0m\u001b[0m_accessor\u001b[0m\u001b[1;33m(\u001b[0m\u001b[0mobj\u001b[0m\u001b[1;33m)\u001b[0m\u001b[1;33m\u001b[0m\u001b[1;33m\u001b[0m\u001b[0m\n\u001b[0m\u001b[0;32m    181\u001b[0m         \u001b[1;31m# Replace the property with the accessor object. Inspired by:\u001b[0m\u001b[1;33m\u001b[0m\u001b[1;33m\u001b[0m\u001b[1;33m\u001b[0m\u001b[0m\n\u001b[0;32m    182\u001b[0m         \u001b[1;31m# https://www.pydanny.com/cached-property.html\u001b[0m\u001b[1;33m\u001b[0m\u001b[1;33m\u001b[0m\u001b[1;33m\u001b[0m\u001b[0m\n",
            "\u001b[1;32m~\\anaconda3\\lib\\site-packages\\pandas\\core\\indexes\\accessors.py\u001b[0m in \u001b[0;36m__new__\u001b[1;34m(cls, data)\u001b[0m\n\u001b[0;32m    492\u001b[0m             \u001b[1;32mreturn\u001b[0m \u001b[0mPeriodProperties\u001b[0m\u001b[1;33m(\u001b[0m\u001b[0mdata\u001b[0m\u001b[1;33m,\u001b[0m \u001b[0morig\u001b[0m\u001b[1;33m)\u001b[0m\u001b[1;33m\u001b[0m\u001b[1;33m\u001b[0m\u001b[0m\n\u001b[0;32m    493\u001b[0m \u001b[1;33m\u001b[0m\u001b[0m\n\u001b[1;32m--> 494\u001b[1;33m         \u001b[1;32mraise\u001b[0m \u001b[0mAttributeError\u001b[0m\u001b[1;33m(\u001b[0m\u001b[1;34m\"Can only use .dt accessor with datetimelike values\"\u001b[0m\u001b[1;33m)\u001b[0m\u001b[1;33m\u001b[0m\u001b[1;33m\u001b[0m\u001b[0m\n\u001b[0m",
            "\u001b[1;31mAttributeError\u001b[0m: Can only use .dt accessor with datetimelike values"
          ]
        }
      ],
      "source": [
        "dw['Year'] = dw['Dates'].dt.year"
      ]
    },
    {
      "cell_type": "code",
      "execution_count": null,
      "id": "de561c62",
      "metadata": {
        "id": "de561c62",
        "outputId": "533b92f3-2f17-404c-ce71-49bd7283ba7d"
      },
      "outputs": [
        {
          "data": {
            "text/plain": [
              "Dates    datetime64[ns]\n",
              "dtype: object"
            ]
          },
          "execution_count": 72,
          "metadata": {},
          "output_type": "execute_result"
        }
      ],
      "source": [
        "dw['Dates'] = pd.to_datetime(dw['Dates'])\n",
        "dw.dtypes"
      ]
    },
    {
      "cell_type": "code",
      "execution_count": null,
      "id": "52021bf3",
      "metadata": {
        "id": "52021bf3",
        "outputId": "ef381de2-da07-447a-bfa1-6b93d01b3c2a"
      },
      "outputs": [
        {
          "data": {
            "text/html": [
              "<div>\n",
              "<style scoped>\n",
              "    .dataframe tbody tr th:only-of-type {\n",
              "        vertical-align: middle;\n",
              "    }\n",
              "\n",
              "    .dataframe tbody tr th {\n",
              "        vertical-align: top;\n",
              "    }\n",
              "\n",
              "    .dataframe thead th {\n",
              "        text-align: right;\n",
              "    }\n",
              "</style>\n",
              "<table border=\"1\" class=\"dataframe\">\n",
              "  <thead>\n",
              "    <tr style=\"text-align: right;\">\n",
              "      <th></th>\n",
              "      <th>Dates</th>\n",
              "      <th>Year</th>\n",
              "      <th>Quarter</th>\n",
              "      <th>Month</th>\n",
              "      <th>Day</th>\n",
              "    </tr>\n",
              "  </thead>\n",
              "  <tbody>\n",
              "    <tr>\n",
              "      <th>0</th>\n",
              "      <td>2019-03-19</td>\n",
              "      <td>2019</td>\n",
              "      <td>1</td>\n",
              "      <td>3</td>\n",
              "      <td>19</td>\n",
              "    </tr>\n",
              "    <tr>\n",
              "      <th>1</th>\n",
              "      <td>2022-10-12</td>\n",
              "      <td>2022</td>\n",
              "      <td>4</td>\n",
              "      <td>10</td>\n",
              "      <td>12</td>\n",
              "    </tr>\n",
              "    <tr>\n",
              "      <th>2</th>\n",
              "      <td>2021-07-05</td>\n",
              "      <td>2021</td>\n",
              "      <td>3</td>\n",
              "      <td>7</td>\n",
              "      <td>5</td>\n",
              "    </tr>\n",
              "    <tr>\n",
              "      <th>3</th>\n",
              "      <td>2020-01-26</td>\n",
              "      <td>2020</td>\n",
              "      <td>1</td>\n",
              "      <td>1</td>\n",
              "      <td>26</td>\n",
              "    </tr>\n",
              "    <tr>\n",
              "      <th>4</th>\n",
              "      <td>2021-05-24</td>\n",
              "      <td>2021</td>\n",
              "      <td>2</td>\n",
              "      <td>5</td>\n",
              "      <td>24</td>\n",
              "    </tr>\n",
              "  </tbody>\n",
              "</table>\n",
              "</div>"
            ],
            "text/plain": [
              "       Dates  Year  Quarter  Month  Day\n",
              "0 2019-03-19  2019        1      3   19\n",
              "1 2022-10-12  2022        4     10   12\n",
              "2 2021-07-05  2021        3      7    5\n",
              "3 2020-01-26  2020        1      1   26\n",
              "4 2021-05-24  2021        2      5   24"
            ]
          },
          "execution_count": 73,
          "metadata": {},
          "output_type": "execute_result"
        }
      ],
      "source": [
        "dw['Year'] = dw['Dates'].dt.year\n",
        "dw['Quarter'] = dw['Dates'].dt.quarter\n",
        "dw['Month'] = dw['Dates'].dt.month\n",
        "dw['Day'] = dw['Dates'].dt.day\n",
        "dw.head()"
      ]
    },
    {
      "cell_type": "code",
      "execution_count": null,
      "id": "c31f0c6f",
      "metadata": {
        "id": "c31f0c6f",
        "outputId": "fb84f80a-b18d-448a-eb50-c4d95b78d215"
      },
      "outputs": [
        {
          "name": "stderr",
          "output_type": "stream",
          "text": [
            "<ipython-input-74-80288db33037>:2: FutureWarning: Series.dt.weekofyear and Series.dt.week have been deprecated.  Please use Series.dt.isocalendar().week instead.\n",
            "  dw['Week_Num'] = dw['Dates'].dt.week\n"
          ]
        },
        {
          "data": {
            "text/html": [
              "<div>\n",
              "<style scoped>\n",
              "    .dataframe tbody tr th:only-of-type {\n",
              "        vertical-align: middle;\n",
              "    }\n",
              "\n",
              "    .dataframe tbody tr th {\n",
              "        vertical-align: top;\n",
              "    }\n",
              "\n",
              "    .dataframe thead th {\n",
              "        text-align: right;\n",
              "    }\n",
              "</style>\n",
              "<table border=\"1\" class=\"dataframe\">\n",
              "  <thead>\n",
              "    <tr style=\"text-align: right;\">\n",
              "      <th></th>\n",
              "      <th>Dates</th>\n",
              "      <th>Year</th>\n",
              "      <th>Quarter</th>\n",
              "      <th>Month</th>\n",
              "      <th>Day</th>\n",
              "      <th>Weekday</th>\n",
              "      <th>Week_Num</th>\n",
              "    </tr>\n",
              "  </thead>\n",
              "  <tbody>\n",
              "    <tr>\n",
              "      <th>0</th>\n",
              "      <td>2019-03-19</td>\n",
              "      <td>2019</td>\n",
              "      <td>1</td>\n",
              "      <td>3</td>\n",
              "      <td>19</td>\n",
              "      <td>1</td>\n",
              "      <td>12</td>\n",
              "    </tr>\n",
              "    <tr>\n",
              "      <th>1</th>\n",
              "      <td>2022-10-12</td>\n",
              "      <td>2022</td>\n",
              "      <td>4</td>\n",
              "      <td>10</td>\n",
              "      <td>12</td>\n",
              "      <td>2</td>\n",
              "      <td>41</td>\n",
              "    </tr>\n",
              "    <tr>\n",
              "      <th>2</th>\n",
              "      <td>2021-07-05</td>\n",
              "      <td>2021</td>\n",
              "      <td>3</td>\n",
              "      <td>7</td>\n",
              "      <td>5</td>\n",
              "      <td>0</td>\n",
              "      <td>27</td>\n",
              "    </tr>\n",
              "    <tr>\n",
              "      <th>3</th>\n",
              "      <td>2020-01-26</td>\n",
              "      <td>2020</td>\n",
              "      <td>1</td>\n",
              "      <td>1</td>\n",
              "      <td>26</td>\n",
              "      <td>6</td>\n",
              "      <td>4</td>\n",
              "    </tr>\n",
              "    <tr>\n",
              "      <th>4</th>\n",
              "      <td>2021-05-24</td>\n",
              "      <td>2021</td>\n",
              "      <td>2</td>\n",
              "      <td>5</td>\n",
              "      <td>24</td>\n",
              "      <td>0</td>\n",
              "      <td>21</td>\n",
              "    </tr>\n",
              "  </tbody>\n",
              "</table>\n",
              "</div>"
            ],
            "text/plain": [
              "       Dates  Year  Quarter  Month  Day  Weekday  Week_Num\n",
              "0 2019-03-19  2019        1      3   19        1        12\n",
              "1 2022-10-12  2022        4     10   12        2        41\n",
              "2 2021-07-05  2021        3      7    5        0        27\n",
              "3 2020-01-26  2020        1      1   26        6         4\n",
              "4 2021-05-24  2021        2      5   24        0        21"
            ]
          },
          "execution_count": 74,
          "metadata": {},
          "output_type": "execute_result"
        }
      ],
      "source": [
        "dw['Weekday'] = dw['Dates'].dt.weekday\n",
        "dw['Week_Num'] = dw['Dates'].dt.week\n",
        "dw.head()"
      ]
    },
    {
      "cell_type": "markdown",
      "id": "d7135fb1",
      "metadata": {
        "id": "d7135fb1"
      },
      "source": [
        "### 4) Scaling, Standardization and Normalization"
      ]
    },
    {
      "cell_type": "markdown",
      "id": "8c09d9b8",
      "metadata": {
        "id": "8c09d9b8"
      },
      "source": [
        "#### a) normalize\n",
        "1) It returns a numpy array<br>"
      ]
    },
    {
      "cell_type": "code",
      "execution_count": null,
      "id": "86dca2db",
      "metadata": {
        "id": "86dca2db"
      },
      "outputs": [],
      "source": [
        "from sklearn.preprocessing import normalize"
      ]
    },
    {
      "cell_type": "code",
      "execution_count": null,
      "id": "08e2d1ef",
      "metadata": {
        "id": "08e2d1ef",
        "outputId": "32d78843-2f3a-48db-9828-c66423af0fd9"
      },
      "outputs": [
        {
          "data": {
            "text/html": [
              "<div>\n",
              "<style scoped>\n",
              "    .dataframe tbody tr th:only-of-type {\n",
              "        vertical-align: middle;\n",
              "    }\n",
              "\n",
              "    .dataframe tbody tr th {\n",
              "        vertical-align: top;\n",
              "    }\n",
              "\n",
              "    .dataframe thead th {\n",
              "        text-align: right;\n",
              "    }\n",
              "</style>\n",
              "<table border=\"1\" class=\"dataframe\">\n",
              "  <thead>\n",
              "    <tr style=\"text-align: right;\">\n",
              "      <th></th>\n",
              "      <th>x1</th>\n",
              "      <th>x2</th>\n",
              "    </tr>\n",
              "  </thead>\n",
              "  <tbody>\n",
              "    <tr>\n",
              "      <th>0</th>\n",
              "      <td>1</td>\n",
              "      <td>6</td>\n",
              "    </tr>\n",
              "    <tr>\n",
              "      <th>1</th>\n",
              "      <td>2</td>\n",
              "      <td>7</td>\n",
              "    </tr>\n",
              "    <tr>\n",
              "      <th>2</th>\n",
              "      <td>3</td>\n",
              "      <td>8</td>\n",
              "    </tr>\n",
              "    <tr>\n",
              "      <th>3</th>\n",
              "      <td>4</td>\n",
              "      <td>9</td>\n",
              "    </tr>\n",
              "    <tr>\n",
              "      <th>4</th>\n",
              "      <td>5</td>\n",
              "      <td>10</td>\n",
              "    </tr>\n",
              "  </tbody>\n",
              "</table>\n",
              "</div>"
            ],
            "text/plain": [
              "   x1  x2\n",
              "0   1   6\n",
              "1   2   7\n",
              "2   3   8\n",
              "3   4   9\n",
              "4   5  10"
            ]
          },
          "execution_count": 79,
          "metadata": {},
          "output_type": "execute_result"
        }
      ],
      "source": [
        "d3 = {'x1':[1,2,3,4,5],\n",
        "     'x2': [6,7,8,9,10]}\n",
        "dfn =  pd.DataFrame(d3)\n",
        "dfn"
      ]
    },
    {
      "cell_type": "code",
      "execution_count": null,
      "id": "45cb0226",
      "metadata": {
        "id": "45cb0226",
        "outputId": "b8941628-d1f4-4397-f3a5-0f58626782b1"
      },
      "outputs": [
        {
          "data": {
            "text/plain": [
              "array([[0.14285714, 0.85714286],\n",
              "       [0.22222222, 0.77777778],\n",
              "       [0.27272727, 0.72727273],\n",
              "       [0.30769231, 0.69230769],\n",
              "       [0.33333333, 0.66666667]])"
            ]
          },
          "execution_count": 80,
          "metadata": {},
          "output_type": "execute_result"
        }
      ],
      "source": [
        "dfn_l1 = normalize(dfn,norm='l1')\n",
        "dfn_l1\n",
        "# x = x/(sum of all the value in the same row)\n",
        "# After normlaization, sum of row values is going to be 1"
      ]
    },
    {
      "cell_type": "code",
      "execution_count": null,
      "id": "b2610d9a",
      "metadata": {
        "id": "b2610d9a",
        "outputId": "008d7ae3-3bf6-4d15-d4c0-a88683a5ef3e"
      },
      "outputs": [
        {
          "data": {
            "text/plain": [
              "0.6923076923076923"
            ]
          },
          "execution_count": 84,
          "metadata": {},
          "output_type": "execute_result"
        }
      ],
      "source": [
        "9/(9+4)"
      ]
    },
    {
      "cell_type": "code",
      "execution_count": null,
      "id": "aa6e1408",
      "metadata": {
        "id": "aa6e1408",
        "outputId": "d48973b5-4e6f-490c-e807-38b858fba7cc"
      },
      "outputs": [
        {
          "data": {
            "text/html": [
              "<div>\n",
              "<style scoped>\n",
              "    .dataframe tbody tr th:only-of-type {\n",
              "        vertical-align: middle;\n",
              "    }\n",
              "\n",
              "    .dataframe tbody tr th {\n",
              "        vertical-align: top;\n",
              "    }\n",
              "\n",
              "    .dataframe thead th {\n",
              "        text-align: right;\n",
              "    }\n",
              "</style>\n",
              "<table border=\"1\" class=\"dataframe\">\n",
              "  <thead>\n",
              "    <tr style=\"text-align: right;\">\n",
              "      <th></th>\n",
              "      <th>x1</th>\n",
              "      <th>x2</th>\n",
              "    </tr>\n",
              "  </thead>\n",
              "  <tbody>\n",
              "    <tr>\n",
              "      <th>0</th>\n",
              "      <td>1</td>\n",
              "      <td>6</td>\n",
              "    </tr>\n",
              "    <tr>\n",
              "      <th>1</th>\n",
              "      <td>2</td>\n",
              "      <td>7</td>\n",
              "    </tr>\n",
              "    <tr>\n",
              "      <th>2</th>\n",
              "      <td>3</td>\n",
              "      <td>8</td>\n",
              "    </tr>\n",
              "    <tr>\n",
              "      <th>3</th>\n",
              "      <td>4</td>\n",
              "      <td>9</td>\n",
              "    </tr>\n",
              "    <tr>\n",
              "      <th>4</th>\n",
              "      <td>5</td>\n",
              "      <td>10</td>\n",
              "    </tr>\n",
              "  </tbody>\n",
              "</table>\n",
              "</div>"
            ],
            "text/plain": [
              "   x1  x2\n",
              "0   1   6\n",
              "1   2   7\n",
              "2   3   8\n",
              "3   4   9\n",
              "4   5  10"
            ]
          },
          "execution_count": 86,
          "metadata": {},
          "output_type": "execute_result"
        }
      ],
      "source": [
        "dfn"
      ]
    },
    {
      "cell_type": "code",
      "execution_count": null,
      "id": "b30db4c6",
      "metadata": {
        "id": "b30db4c6",
        "outputId": "3abed12d-d560-4279-fcdb-d7b6c48f2e86"
      },
      "outputs": [
        {
          "data": {
            "text/plain": [
              "array([[0.16439899, 0.98639392],\n",
              "       [0.27472113, 0.96152395],\n",
              "       [0.35112344, 0.93632918],\n",
              "       [0.40613847, 0.91381155],\n",
              "       [0.4472136 , 0.89442719]])"
            ]
          },
          "execution_count": 85,
          "metadata": {},
          "output_type": "execute_result"
        }
      ],
      "source": [
        "dfn_l2 = normalize(dfn,norm='l2')\n",
        "dfn_l2"
      ]
    },
    {
      "cell_type": "code",
      "execution_count": null,
      "id": "2395cd6d",
      "metadata": {
        "id": "2395cd6d",
        "outputId": "7a8adb2d-0007-4611-b730-42ebe86a03e1"
      },
      "outputs": [
        {
          "data": {
            "text/plain": [
              "0.3511234415883917"
            ]
          },
          "execution_count": 88,
          "metadata": {},
          "output_type": "execute_result"
        }
      ],
      "source": [
        "3/(np.sqrt(3**2 + 8**2))"
      ]
    },
    {
      "cell_type": "markdown",
      "id": "23f73a9e",
      "metadata": {
        "id": "23f73a9e"
      },
      "source": [
        "### MinMaxScaler"
      ]
    },
    {
      "cell_type": "code",
      "execution_count": null,
      "id": "1a5af2e6",
      "metadata": {
        "id": "1a5af2e6"
      },
      "outputs": [],
      "source": [
        "from sklearn.preprocessing import MinMaxScaler\n",
        "mms = MinMaxScaler((3,5))"
      ]
    },
    {
      "cell_type": "code",
      "execution_count": null,
      "id": "b077ca45",
      "metadata": {
        "id": "b077ca45",
        "outputId": "77087ede-1ea1-477f-e50b-8617e31e9dc6"
      },
      "outputs": [
        {
          "data": {
            "text/html": [
              "<div>\n",
              "<style scoped>\n",
              "    .dataframe tbody tr th:only-of-type {\n",
              "        vertical-align: middle;\n",
              "    }\n",
              "\n",
              "    .dataframe tbody tr th {\n",
              "        vertical-align: top;\n",
              "    }\n",
              "\n",
              "    .dataframe thead th {\n",
              "        text-align: right;\n",
              "    }\n",
              "</style>\n",
              "<table border=\"1\" class=\"dataframe\">\n",
              "  <thead>\n",
              "    <tr style=\"text-align: right;\">\n",
              "      <th></th>\n",
              "      <th>x1</th>\n",
              "      <th>x2</th>\n",
              "    </tr>\n",
              "  </thead>\n",
              "  <tbody>\n",
              "    <tr>\n",
              "      <th>0</th>\n",
              "      <td>1</td>\n",
              "      <td>6</td>\n",
              "    </tr>\n",
              "    <tr>\n",
              "      <th>1</th>\n",
              "      <td>2</td>\n",
              "      <td>7</td>\n",
              "    </tr>\n",
              "    <tr>\n",
              "      <th>2</th>\n",
              "      <td>3</td>\n",
              "      <td>8</td>\n",
              "    </tr>\n",
              "    <tr>\n",
              "      <th>3</th>\n",
              "      <td>4</td>\n",
              "      <td>9</td>\n",
              "    </tr>\n",
              "    <tr>\n",
              "      <th>4</th>\n",
              "      <td>5</td>\n",
              "      <td>10</td>\n",
              "    </tr>\n",
              "  </tbody>\n",
              "</table>\n",
              "</div>"
            ],
            "text/plain": [
              "   x1  x2\n",
              "0   1   6\n",
              "1   2   7\n",
              "2   3   8\n",
              "3   4   9\n",
              "4   5  10"
            ]
          },
          "execution_count": 91,
          "metadata": {},
          "output_type": "execute_result"
        }
      ],
      "source": [
        "dfn"
      ]
    },
    {
      "cell_type": "code",
      "execution_count": null,
      "id": "1578445a",
      "metadata": {
        "id": "1578445a",
        "outputId": "292b369a-01a0-44c5-b809-ba4ee27f76a8"
      },
      "outputs": [
        {
          "data": {
            "text/plain": [
              "array([[3. , 3. ],\n",
              "       [3.5, 3.5],\n",
              "       [4. , 4. ],\n",
              "       [4.5, 4.5],\n",
              "       [5. , 5. ]])"
            ]
          },
          "execution_count": 93,
          "metadata": {},
          "output_type": "execute_result"
        }
      ],
      "source": [
        "dfn_mms = mms.fit_transform(dfn)\n",
        "dfn_mms"
      ]
    },
    {
      "cell_type": "code",
      "execution_count": null,
      "id": "b8cca1ce",
      "metadata": {
        "id": "b8cca1ce"
      },
      "outputs": [],
      "source": [
        "# X_std = (X - X.min(axis=0)) / (X.max(axis=0) - X.min(axis=0))\n",
        "# X_scaled = X_std * (max - min) + min"
      ]
    },
    {
      "cell_type": "code",
      "execution_count": null,
      "id": "cac7764a",
      "metadata": {
        "id": "cac7764a",
        "outputId": "150b937d-7c74-4435-9b73-3d13c2652c3d"
      },
      "outputs": [
        {
          "name": "stdout",
          "output_type": "stream",
          "text": [
            "0.75\n",
            "4.5\n"
          ]
        }
      ],
      "source": [
        "x_std4 = (4 - dfn['x1'].min())/(dfn['x1'].max() - dfn['x1'].min())\n",
        "print(x_std4)\n",
        "x_sc4 = x_std4*(5-3) + 3\n",
        "print(x_sc4)"
      ]
    },
    {
      "cell_type": "markdown",
      "id": "b974417b",
      "metadata": {
        "id": "b974417b"
      },
      "source": [
        "### 5) Binning\n",
        "1) Creating gropus(bins) out of existing continuous data.<br>\n",
        "2) bins can have same range or they can even be of different range."
      ]
    },
    {
      "cell_type": "code",
      "execution_count": null,
      "id": "9d8e3a6c",
      "metadata": {
        "id": "9d8e3a6c",
        "outputId": "c7409124-0f49-4a25-fe3a-fc6f7ff30a06"
      },
      "outputs": [
        {
          "data": {
            "text/html": [
              "<div>\n",
              "<style scoped>\n",
              "    .dataframe tbody tr th:only-of-type {\n",
              "        vertical-align: middle;\n",
              "    }\n",
              "\n",
              "    .dataframe tbody tr th {\n",
              "        vertical-align: top;\n",
              "    }\n",
              "\n",
              "    .dataframe thead th {\n",
              "        text-align: right;\n",
              "    }\n",
              "</style>\n",
              "<table border=\"1\" class=\"dataframe\">\n",
              "  <thead>\n",
              "    <tr style=\"text-align: right;\">\n",
              "      <th></th>\n",
              "      <th>Sales</th>\n",
              "    </tr>\n",
              "  </thead>\n",
              "  <tbody>\n",
              "    <tr>\n",
              "      <th>0</th>\n",
              "      <td>1350</td>\n",
              "    </tr>\n",
              "    <tr>\n",
              "      <th>1</th>\n",
              "      <td>2450</td>\n",
              "    </tr>\n",
              "    <tr>\n",
              "      <th>2</th>\n",
              "      <td>4530</td>\n",
              "    </tr>\n",
              "    <tr>\n",
              "      <th>3</th>\n",
              "      <td>4552</td>\n",
              "    </tr>\n",
              "    <tr>\n",
              "      <th>4</th>\n",
              "      <td>5430</td>\n",
              "    </tr>\n",
              "  </tbody>\n",
              "</table>\n",
              "</div>"
            ],
            "text/plain": [
              "   Sales\n",
              "0   1350\n",
              "1   2450\n",
              "2   4530\n",
              "3   4552\n",
              "4   5430"
            ]
          },
          "execution_count": 97,
          "metadata": {},
          "output_type": "execute_result"
        }
      ],
      "source": [
        "d4 = {'Sales':[1350,2450,4530,4552,5430,2190,5409,6765,3020,2810]}\n",
        "df_bin = pd.DataFrame(d4)\n",
        "df_bin.head()"
      ]
    },
    {
      "cell_type": "code",
      "execution_count": null,
      "id": "83b82519",
      "metadata": {
        "id": "83b82519",
        "outputId": "8105d180-d41c-4e14-acb9-874da4477de1"
      },
      "outputs": [
        {
          "data": {
            "text/html": [
              "<div>\n",
              "<style scoped>\n",
              "    .dataframe tbody tr th:only-of-type {\n",
              "        vertical-align: middle;\n",
              "    }\n",
              "\n",
              "    .dataframe tbody tr th {\n",
              "        vertical-align: top;\n",
              "    }\n",
              "\n",
              "    .dataframe thead th {\n",
              "        text-align: right;\n",
              "    }\n",
              "</style>\n",
              "<table border=\"1\" class=\"dataframe\">\n",
              "  <thead>\n",
              "    <tr style=\"text-align: right;\">\n",
              "      <th></th>\n",
              "      <th>Sales</th>\n",
              "      <th>Sales_bin</th>\n",
              "    </tr>\n",
              "  </thead>\n",
              "  <tbody>\n",
              "    <tr>\n",
              "      <th>0</th>\n",
              "      <td>1350</td>\n",
              "      <td>Low</td>\n",
              "    </tr>\n",
              "    <tr>\n",
              "      <th>1</th>\n",
              "      <td>2450</td>\n",
              "      <td>Low</td>\n",
              "    </tr>\n",
              "    <tr>\n",
              "      <th>2</th>\n",
              "      <td>4530</td>\n",
              "      <td>Med</td>\n",
              "    </tr>\n",
              "    <tr>\n",
              "      <th>3</th>\n",
              "      <td>4552</td>\n",
              "      <td>High</td>\n",
              "    </tr>\n",
              "    <tr>\n",
              "      <th>4</th>\n",
              "      <td>5430</td>\n",
              "      <td>High</td>\n",
              "    </tr>\n",
              "    <tr>\n",
              "      <th>5</th>\n",
              "      <td>2190</td>\n",
              "      <td>Low</td>\n",
              "    </tr>\n",
              "    <tr>\n",
              "      <th>6</th>\n",
              "      <td>5409</td>\n",
              "      <td>High</td>\n",
              "    </tr>\n",
              "    <tr>\n",
              "      <th>7</th>\n",
              "      <td>6765</td>\n",
              "      <td>NaN</td>\n",
              "    </tr>\n",
              "    <tr>\n",
              "      <th>8</th>\n",
              "      <td>3020</td>\n",
              "      <td>Med</td>\n",
              "    </tr>\n",
              "    <tr>\n",
              "      <th>9</th>\n",
              "      <td>2810</td>\n",
              "      <td>Med</td>\n",
              "    </tr>\n",
              "  </tbody>\n",
              "</table>\n",
              "</div>"
            ],
            "text/plain": [
              "   Sales Sales_bin\n",
              "0   1350       Low\n",
              "1   2450       Low\n",
              "2   4530       Med\n",
              "3   4552      High\n",
              "4   5430      High\n",
              "5   2190       Low\n",
              "6   5409      High\n",
              "7   6765       NaN\n",
              "8   3020       Med\n",
              "9   2810       Med"
            ]
          },
          "execution_count": 98,
          "metadata": {},
          "output_type": "execute_result"
        }
      ],
      "source": [
        "df_bin['Sales_bin'] = pd.cut(df_bin['Sales'],bins=[1300,2800,4530,6500],\n",
        "                             labels=['Low','Med','High'])\n",
        "df_bin.head(10)\n",
        "# bin1 = [1300,2800]  - Low\n",
        "# bin2 = [2800,4200]  - Med\n",
        "# bin3 = [4200,6500]  - High"
      ]
    },
    {
      "cell_type": "code",
      "execution_count": null,
      "id": "1103ed53",
      "metadata": {
        "id": "1103ed53",
        "outputId": "c5050865-a75c-4e0a-a597-6a74b7d1a46a"
      },
      "outputs": [
        {
          "data": {
            "text/html": [
              "<div>\n",
              "<style scoped>\n",
              "    .dataframe tbody tr th:only-of-type {\n",
              "        vertical-align: middle;\n",
              "    }\n",
              "\n",
              "    .dataframe tbody tr th {\n",
              "        vertical-align: top;\n",
              "    }\n",
              "\n",
              "    .dataframe thead th {\n",
              "        text-align: right;\n",
              "    }\n",
              "</style>\n",
              "<table border=\"1\" class=\"dataframe\">\n",
              "  <thead>\n",
              "    <tr style=\"text-align: right;\">\n",
              "      <th></th>\n",
              "      <th>Sales</th>\n",
              "      <th>Sales_bin</th>\n",
              "      <th>Sales_bin_binary</th>\n",
              "    </tr>\n",
              "  </thead>\n",
              "  <tbody>\n",
              "    <tr>\n",
              "      <th>0</th>\n",
              "      <td>1350</td>\n",
              "      <td>Low</td>\n",
              "      <td>Low_Sales</td>\n",
              "    </tr>\n",
              "    <tr>\n",
              "      <th>1</th>\n",
              "      <td>2450</td>\n",
              "      <td>Low</td>\n",
              "      <td>Low_Sales</td>\n",
              "    </tr>\n",
              "    <tr>\n",
              "      <th>2</th>\n",
              "      <td>4530</td>\n",
              "      <td>Med</td>\n",
              "      <td>High_Sales</td>\n",
              "    </tr>\n",
              "    <tr>\n",
              "      <th>3</th>\n",
              "      <td>4552</td>\n",
              "      <td>High</td>\n",
              "      <td>High_Sales</td>\n",
              "    </tr>\n",
              "    <tr>\n",
              "      <th>4</th>\n",
              "      <td>5430</td>\n",
              "      <td>High</td>\n",
              "      <td>High_Sales</td>\n",
              "    </tr>\n",
              "    <tr>\n",
              "      <th>5</th>\n",
              "      <td>2190</td>\n",
              "      <td>Low</td>\n",
              "      <td>Low_Sales</td>\n",
              "    </tr>\n",
              "    <tr>\n",
              "      <th>6</th>\n",
              "      <td>5409</td>\n",
              "      <td>High</td>\n",
              "      <td>High_Sales</td>\n",
              "    </tr>\n",
              "    <tr>\n",
              "      <th>7</th>\n",
              "      <td>6765</td>\n",
              "      <td>NaN</td>\n",
              "      <td>High_Sales</td>\n",
              "    </tr>\n",
              "    <tr>\n",
              "      <th>8</th>\n",
              "      <td>3020</td>\n",
              "      <td>Med</td>\n",
              "      <td>Low_Sales</td>\n",
              "    </tr>\n",
              "    <tr>\n",
              "      <th>9</th>\n",
              "      <td>2810</td>\n",
              "      <td>Med</td>\n",
              "      <td>Low_Sales</td>\n",
              "    </tr>\n",
              "  </tbody>\n",
              "</table>\n",
              "</div>"
            ],
            "text/plain": [
              "   Sales Sales_bin Sales_bin_binary\n",
              "0   1350       Low        Low_Sales\n",
              "1   2450       Low        Low_Sales\n",
              "2   4530       Med       High_Sales\n",
              "3   4552      High       High_Sales\n",
              "4   5430      High       High_Sales\n",
              "5   2190       Low        Low_Sales\n",
              "6   5409      High       High_Sales\n",
              "7   6765       NaN       High_Sales\n",
              "8   3020       Med        Low_Sales\n",
              "9   2810       Med        Low_Sales"
            ]
          },
          "execution_count": 99,
          "metadata": {},
          "output_type": "execute_result"
        }
      ],
      "source": [
        "# Create a Sales_bin, based on low and high sales values\n",
        "df_bin['Sales_bin_binary'] = np.where(df_bin['Sales']<=3500,'Low_Sales','High_Sales')\n",
        "df_bin.head(10)"
      ]
    },
    {
      "cell_type": "markdown",
      "id": "56904184",
      "metadata": {
        "id": "56904184"
      },
      "source": [
        "### 6) Groupby operations\n",
        "We can use different aggregate functions with group by - sum(), min(),max(), count(), mean()"
      ]
    },
    {
      "cell_type": "code",
      "execution_count": null,
      "id": "0394b28a",
      "metadata": {
        "id": "0394b28a",
        "outputId": "3c37894c-7817-4262-e105-ac0982aa7eb4"
      },
      "outputs": [
        {
          "data": {
            "text/html": [
              "<div>\n",
              "<style scoped>\n",
              "    .dataframe tbody tr th:only-of-type {\n",
              "        vertical-align: middle;\n",
              "    }\n",
              "\n",
              "    .dataframe tbody tr th {\n",
              "        vertical-align: top;\n",
              "    }\n",
              "\n",
              "    .dataframe thead th {\n",
              "        text-align: right;\n",
              "    }\n",
              "</style>\n",
              "<table border=\"1\" class=\"dataframe\">\n",
              "  <thead>\n",
              "    <tr style=\"text-align: right;\">\n",
              "      <th></th>\n",
              "      <th>Prod</th>\n",
              "      <th>Sales</th>\n",
              "    </tr>\n",
              "  </thead>\n",
              "  <tbody>\n",
              "    <tr>\n",
              "      <th>0</th>\n",
              "      <td>A</td>\n",
              "      <td>120.000000</td>\n",
              "    </tr>\n",
              "    <tr>\n",
              "      <th>1</th>\n",
              "      <td>B</td>\n",
              "      <td>230.000000</td>\n",
              "    </tr>\n",
              "    <tr>\n",
              "      <th>2</th>\n",
              "      <td>A</td>\n",
              "      <td>150.000000</td>\n",
              "    </tr>\n",
              "    <tr>\n",
              "      <th>3</th>\n",
              "      <td>C</td>\n",
              "      <td>201.666667</td>\n",
              "    </tr>\n",
              "    <tr>\n",
              "      <th>4</th>\n",
              "      <td>B</td>\n",
              "      <td>100.000000</td>\n",
              "    </tr>\n",
              "    <tr>\n",
              "      <th>5</th>\n",
              "      <td>C</td>\n",
              "      <td>80.000000</td>\n",
              "    </tr>\n",
              "    <tr>\n",
              "      <th>6</th>\n",
              "      <td>C</td>\n",
              "      <td>180.000000</td>\n",
              "    </tr>\n",
              "    <tr>\n",
              "      <th>7</th>\n",
              "      <td>B</td>\n",
              "      <td>240.000000</td>\n",
              "    </tr>\n",
              "    <tr>\n",
              "      <th>8</th>\n",
              "      <td>B</td>\n",
              "      <td>201.666667</td>\n",
              "    </tr>\n",
              "    <tr>\n",
              "      <th>9</th>\n",
              "      <td>B</td>\n",
              "      <td>140.000000</td>\n",
              "    </tr>\n",
              "    <tr>\n",
              "      <th>10</th>\n",
              "      <td>A</td>\n",
              "      <td>210.000000</td>\n",
              "    </tr>\n",
              "    <tr>\n",
              "      <th>11</th>\n",
              "      <td>B</td>\n",
              "      <td>320.000000</td>\n",
              "    </tr>\n",
              "    <tr>\n",
              "      <th>12</th>\n",
              "      <td>C</td>\n",
              "      <td>450.000000</td>\n",
              "    </tr>\n",
              "    <tr>\n",
              "      <th>13</th>\n",
              "      <td>B</td>\n",
              "      <td>201.666667</td>\n",
              "    </tr>\n",
              "    <tr>\n",
              "      <th>14</th>\n",
              "      <td>C</td>\n",
              "      <td>200.000000</td>\n",
              "    </tr>\n",
              "  </tbody>\n",
              "</table>\n",
              "</div>"
            ],
            "text/plain": [
              "   Prod       Sales\n",
              "0     A  120.000000\n",
              "1     B  230.000000\n",
              "2     A  150.000000\n",
              "3     C  201.666667\n",
              "4     B  100.000000\n",
              "5     C   80.000000\n",
              "6     C  180.000000\n",
              "7     B  240.000000\n",
              "8     B  201.666667\n",
              "9     B  140.000000\n",
              "10    A  210.000000\n",
              "11    B  320.000000\n",
              "12    C  450.000000\n",
              "13    B  201.666667\n",
              "14    C  200.000000"
            ]
          },
          "execution_count": 100,
          "metadata": {},
          "output_type": "execute_result"
        }
      ],
      "source": [
        "df2"
      ]
    },
    {
      "cell_type": "code",
      "execution_count": null,
      "id": "7f71fcfc",
      "metadata": {
        "id": "7f71fcfc",
        "outputId": "d0d238f3-a77d-4a7c-b005-68fe4e9caefb"
      },
      "outputs": [
        {
          "data": {
            "text/plain": [
              "B    7\n",
              "C    5\n",
              "A    3\n",
              "Name: Prod, dtype: int64"
            ]
          },
          "execution_count": 104,
          "metadata": {},
          "output_type": "execute_result"
        }
      ],
      "source": [
        "df2['Prod'].value_counts()"
      ]
    },
    {
      "cell_type": "markdown",
      "id": "34e2d8b4",
      "metadata": {
        "id": "34e2d8b4"
      },
      "source": [
        "#### Q) Find Sum of Sales based on Prod\n",
        "Q) Find Prod wise sum of Sales"
      ]
    },
    {
      "cell_type": "code",
      "execution_count": null,
      "id": "5b85f451",
      "metadata": {
        "id": "5b85f451",
        "outputId": "28ff4945-1943-4f8b-e7a5-ce7d7bde8ca2"
      },
      "outputs": [
        {
          "data": {
            "text/plain": [
              "Prod\n",
              "A     480.000000\n",
              "B    1433.333333\n",
              "C    1111.666667\n",
              "Name: Sales, dtype: float64"
            ]
          },
          "execution_count": 105,
          "metadata": {},
          "output_type": "execute_result"
        }
      ],
      "source": [
        "res = df2.groupby(['Prod'])['Sales'].sum()\n",
        "res"
      ]
    },
    {
      "cell_type": "code",
      "execution_count": null,
      "id": "961324dc",
      "metadata": {
        "id": "961324dc",
        "outputId": "9ef9c57b-6132-49c1-c542-7be2d95238cf"
      },
      "outputs": [
        {
          "data": {
            "text/html": [
              "<div>\n",
              "<style scoped>\n",
              "    .dataframe tbody tr th:only-of-type {\n",
              "        vertical-align: middle;\n",
              "    }\n",
              "\n",
              "    .dataframe tbody tr th {\n",
              "        vertical-align: top;\n",
              "    }\n",
              "\n",
              "    .dataframe thead tr th {\n",
              "        text-align: left;\n",
              "    }\n",
              "\n",
              "    .dataframe thead tr:last-of-type th {\n",
              "        text-align: right;\n",
              "    }\n",
              "</style>\n",
              "<table border=\"1\" class=\"dataframe\">\n",
              "  <thead>\n",
              "    <tr>\n",
              "      <th></th>\n",
              "      <th colspan=\"8\" halign=\"left\">Sales</th>\n",
              "    </tr>\n",
              "    <tr>\n",
              "      <th></th>\n",
              "      <th>min</th>\n",
              "      <th>max</th>\n",
              "      <th>sum</th>\n",
              "      <th>mean</th>\n",
              "      <th>count</th>\n",
              "      <th>median</th>\n",
              "      <th>var</th>\n",
              "      <th>std</th>\n",
              "    </tr>\n",
              "    <tr>\n",
              "      <th>Prod</th>\n",
              "      <th></th>\n",
              "      <th></th>\n",
              "      <th></th>\n",
              "      <th></th>\n",
              "      <th></th>\n",
              "      <th></th>\n",
              "      <th></th>\n",
              "      <th></th>\n",
              "    </tr>\n",
              "  </thead>\n",
              "  <tbody>\n",
              "    <tr>\n",
              "      <th>A</th>\n",
              "      <td>120.0</td>\n",
              "      <td>210.0</td>\n",
              "      <td>480.000000</td>\n",
              "      <td>160.000000</td>\n",
              "      <td>3</td>\n",
              "      <td>150.000000</td>\n",
              "      <td>2100.000000</td>\n",
              "      <td>45.825757</td>\n",
              "    </tr>\n",
              "    <tr>\n",
              "      <th>B</th>\n",
              "      <td>100.0</td>\n",
              "      <td>320.0</td>\n",
              "      <td>1433.333333</td>\n",
              "      <td>204.761905</td>\n",
              "      <td>7</td>\n",
              "      <td>201.666667</td>\n",
              "      <td>5057.804233</td>\n",
              "      <td>71.118241</td>\n",
              "    </tr>\n",
              "    <tr>\n",
              "      <th>C</th>\n",
              "      <td>80.0</td>\n",
              "      <td>450.0</td>\n",
              "      <td>1111.666667</td>\n",
              "      <td>222.333333</td>\n",
              "      <td>5</td>\n",
              "      <td>200.000000</td>\n",
              "      <td>18702.222222</td>\n",
              "      <td>136.756068</td>\n",
              "    </tr>\n",
              "  </tbody>\n",
              "</table>\n",
              "</div>"
            ],
            "text/plain": [
              "      Sales                                                                  \\\n",
              "        min    max          sum        mean count      median           var   \n",
              "Prod                                                                          \n",
              "A     120.0  210.0   480.000000  160.000000     3  150.000000   2100.000000   \n",
              "B     100.0  320.0  1433.333333  204.761905     7  201.666667   5057.804233   \n",
              "C      80.0  450.0  1111.666667  222.333333     5  200.000000  18702.222222   \n",
              "\n",
              "                  \n",
              "             std  \n",
              "Prod              \n",
              "A      45.825757  \n",
              "B      71.118241  \n",
              "C     136.756068  "
            ]
          },
          "execution_count": 107,
          "metadata": {},
          "output_type": "execute_result"
        }
      ],
      "source": [
        "res2 = df2.groupby(['Prod']).agg({'Sales':['min','max','sum','mean','count','median','var','std']})\n",
        "res2"
      ]
    },
    {
      "cell_type": "markdown",
      "id": "9f1fa9a6",
      "metadata": {
        "id": "9f1fa9a6"
      },
      "source": [
        "## Cross Valdiation\n",
        "It is a resampling technique used to split the data into training and test data"
      ]
    },
    {
      "cell_type": "markdown",
      "id": "9d1ba261",
      "metadata": {
        "id": "9d1ba261"
      },
      "source": [
        "### Types of Cross Validation\n",
        "\n",
        "1)<b> K-Fold CV</b><br>\n",
        "a) The whole data is divided into k sets of almost equal sizes. The first set is selected as the test set and the model is trained on the remaining k-1 sets. The test error rate is then calculated after fitting the model to the test data.\n",
        "\n",
        "b) In the second iteration, the 2nd set is selected as a test set and the remaining k-1 sets are used to train the data and the error is calculated. This process continues for all the k sets.\n",
        "\n",
        "2) <b>Stratified KFold</b><br>\n",
        "Suppose your data contains reviews for a cosmetic product used by both the male and female population. When we perform random sampling to split the data into train and test sets, there is a possibility that most of the data representing males is not represented in training data but might end up in test data. When we train the model on sample training data that is not a correct representation of the actual population, the model will not predict the test data with good accuracy.\n",
        "\n",
        "100 records , 80% is summer_Sale, 20% winter sale<br>\n",
        "80 records are summer sales, 20 are winter sales<br>\n",
        "We we split the data (75% train data, 25% test data)<br>\n",
        "It is possible that 75% of train data contains all the summer sales records and no winter sales records\n",
        "\n",
        "This is where Stratified Sampling comes to the rescue. Here the data is split in such a way that it represents all the classes from the population.\n",
        "\n",
        "Let’s consider the above example which has a cosmetic product review of 1000 customers out of which 60% is female and 40% is male. I want to split the data into train and test data in proportion (80:20). 80% of 1000 customers will be 800 which will be chosen in such a way that there are 480 reviews associated with the female population and 320 representing the male population. In a similar fashion, 20% of 1000 customers will be chosen for the test data ( with the same female and male representation).\n",
        "\n",
        "3) <b>LeaveOneOut</b><br>\n",
        "a) Instead of dividing the data into 2 subsets, we select a single observation as test data, and everything else is labeled as training data and the model is trained. In the second iteration, now the 2nd observation is selected as test data and the model is trained on the remaining data.\n"
      ]
    },
    {
      "cell_type": "code",
      "execution_count": null,
      "id": "582eb53c",
      "metadata": {
        "id": "582eb53c"
      },
      "outputs": [],
      "source": [
        "from sklearn.model_selection import KFold, StratifiedKFold, LeaveOneOut"
      ]
    },
    {
      "cell_type": "markdown",
      "id": "af9f60d7",
      "metadata": {
        "id": "af9f60d7"
      },
      "source": [
        "#### KFold"
      ]
    },
    {
      "cell_type": "code",
      "execution_count": null,
      "id": "0b673b80",
      "metadata": {
        "id": "0b673b80",
        "outputId": "44f107dd-d8ac-4d04-9f99-b1dccde157a4"
      },
      "outputs": [
        {
          "name": "stdout",
          "output_type": "stream",
          "text": [
            "Train data ['c' 'd' 'e' 'f'] Test data ['a' 'b']\n",
            "Train data ['a' 'b' 'e' 'f'] Test data ['c' 'd']\n",
            "Train data ['a' 'b' 'c' 'd'] Test data ['e' 'f']\n"
          ]
        }
      ],
      "source": [
        "x = np.array(['a','b','c','d','e','f'])\n",
        "kf = KFold(n_splits=3)\n",
        "\n",
        "for train,test in kf.split(x):\n",
        "    print('Train data',x[train],'Test data',x[test])"
      ]
    },
    {
      "cell_type": "code",
      "execution_count": null,
      "id": "d894ac68",
      "metadata": {
        "id": "d894ac68",
        "outputId": "c69f8e8d-b9dc-4b64-c2f4-0fb4bcd66623"
      },
      "outputs": [
        {
          "name": "stdout",
          "output_type": "stream",
          "text": [
            "Train data ['c' 'd' 'e' 'f'] Test data ['a' 'b']\n",
            "Train data ['a' 'b' 'e' 'f'] Test data ['c' 'd']\n",
            "Train data ['a' 'b' 'c' 'd' 'f'] Test data ['e']\n",
            "Train data ['a' 'b' 'c' 'd' 'e'] Test data ['f']\n"
          ]
        }
      ],
      "source": [
        "x = np.array(['a','b','c','d','e','f'])\n",
        "kf = KFold(n_splits=4)\n",
        "\n",
        "for train,test in kf.split(x):\n",
        "    print('Train data',x[train],'Test data',x[test])"
      ]
    },
    {
      "cell_type": "code",
      "execution_count": null,
      "id": "b038a519",
      "metadata": {
        "id": "b038a519",
        "outputId": "f64df4b7-7410-40a4-bba6-017fd3972af7"
      },
      "outputs": [
        {
          "name": "stdout",
          "output_type": "stream",
          "text": [
            "Train data ['d' 'e' 'f' 'g' 'h' 'i' 'j' 'k' 'l'] Test data ['a' 'b' 'c']\n",
            "Train data ['a' 'b' 'c' 'g' 'h' 'i' 'j' 'k' 'l'] Test data ['d' 'e' 'f']\n",
            "Train data ['a' 'b' 'c' 'd' 'e' 'f' 'i' 'j' 'k' 'l'] Test data ['g' 'h']\n",
            "Train data ['a' 'b' 'c' 'd' 'e' 'f' 'g' 'h' 'k' 'l'] Test data ['i' 'j']\n",
            "Train data ['a' 'b' 'c' 'd' 'e' 'f' 'g' 'h' 'i' 'j'] Test data ['k' 'l']\n"
          ]
        }
      ],
      "source": [
        "x = np.array(['a','b','c','d','e','f','g','h','i','j','k','l'])\n",
        "kf = KFold(n_splits=5)\n",
        "\n",
        "for train,test in kf.split(x):\n",
        "    print('Train data',x[train],'Test data',x[test])"
      ]
    },
    {
      "cell_type": "markdown",
      "id": "32d36296",
      "metadata": {
        "id": "32d36296"
      },
      "source": [
        "### LeaveOneOut"
      ]
    },
    {
      "cell_type": "code",
      "execution_count": null,
      "id": "480d0cf0",
      "metadata": {
        "id": "480d0cf0",
        "outputId": "fed3548e-74a2-4845-9309-a0b97ac08f30"
      },
      "outputs": [
        {
          "name": "stdout",
          "output_type": "stream",
          "text": [
            "Train data ['b' 'c' 'd' 'e' 'f' 'g' 'h'] Test data ['a']\n",
            "Train data ['a' 'c' 'd' 'e' 'f' 'g' 'h'] Test data ['b']\n",
            "Train data ['a' 'b' 'd' 'e' 'f' 'g' 'h'] Test data ['c']\n",
            "Train data ['a' 'b' 'c' 'e' 'f' 'g' 'h'] Test data ['d']\n",
            "Train data ['a' 'b' 'c' 'd' 'f' 'g' 'h'] Test data ['e']\n",
            "Train data ['a' 'b' 'c' 'd' 'e' 'g' 'h'] Test data ['f']\n",
            "Train data ['a' 'b' 'c' 'd' 'e' 'f' 'h'] Test data ['g']\n",
            "Train data ['a' 'b' 'c' 'd' 'e' 'f' 'g'] Test data ['h']\n"
          ]
        }
      ],
      "source": [
        "x = np.array(['a','b','c','d','e','f','g','h'])\n",
        "loo = LeaveOneOut()\n",
        "for train,test in loo.split(x):\n",
        "    print('Train data',x[train],'Test data',x[test])"
      ]
    },
    {
      "cell_type": "markdown",
      "id": "f012e86e",
      "metadata": {
        "id": "f012e86e"
      },
      "source": [
        "#### Stratified K-Fold"
      ]
    },
    {
      "cell_type": "code",
      "execution_count": null,
      "id": "4cfd61c7",
      "metadata": {
        "id": "4cfd61c7",
        "outputId": "c51d4a34-cfe4-4f09-9f30-dafb84d0ffeb"
      },
      "outputs": [
        {
          "name": "stdout",
          "output_type": "stream",
          "text": [
            "Train [30 35 40 45 50] Test [ 5 10 15 20 25]\n",
            "Train [ 5 10 15 20 25] Test [30 35 40 45 50]\n"
          ]
        }
      ],
      "source": [
        "x = np.array([5,10,15,20,25,30,35,40,45,50])\n",
        "y = np.array([1,0,0,1,1,0,0,1,0,1])\n",
        "skf = StratifiedKFold(n_splits=2)\n",
        "for train,test in skf.split(x,y):\n",
        "    print('Train',x[train],'Test',x[test])\n",
        "\n",
        "# 1 (5,20,25,40,50)\n",
        "# 0 (10,15,30,35,45)\n",
        "\n",
        "# Split1 -> Train(30(0),35(0),40(1),45(0),50(1)) - Test(5(1),10(0),15(0),20(1),25(1))\n",
        "# Split2 -> Train(5(1),10(0),15(0),20(1),25(1)) -  Test(30(0),35(0),40(1),45(0),50(1))"
      ]
    },
    {
      "cell_type": "code",
      "execution_count": null,
      "id": "eef9bc0d",
      "metadata": {
        "id": "eef9bc0d",
        "outputId": "b6227d4e-a581-442b-9713-db5c77cac769"
      },
      "outputs": [
        {
          "name": "stdout",
          "output_type": "stream",
          "text": [
            "Train [15 25 30 35 40 45 50] Test [ 5 10 20]\n",
            "Train [ 5 10 20 35 40 45 50] Test [15 25 30]\n",
            "Train [ 5 10 15 20 25 30 45 50] Test [35 40]\n",
            "Train [ 5 10 15 20 25 30 35 40] Test [45 50]\n"
          ]
        }
      ],
      "source": [
        "x = np.array([5,10,15,20,25,30,35,40,45,50])\n",
        "y = np.array([1,0,0,1,1,0,0,1,0,1])\n",
        "skf = StratifiedKFold(n_splits=4)\n",
        "for train,test in skf.split(x,y):\n",
        "    print('Train',x[train],'Test',x[test])"
      ]
    },
    {
      "cell_type": "code",
      "execution_count": null,
      "id": "ecc5714a",
      "metadata": {
        "id": "ecc5714a"
      },
      "outputs": [],
      "source": []
    }
  ],
  "metadata": {
    "kernelspec": {
      "display_name": "Python 3",
      "language": "python",
      "name": "python3"
    },
    "language_info": {
      "codemirror_mode": {
        "name": "ipython",
        "version": 3
      },
      "file_extension": ".py",
      "mimetype": "text/x-python",
      "name": "python",
      "nbconvert_exporter": "python",
      "pygments_lexer": "ipython3",
      "version": "3.8.8"
    },
    "colab": {
      "provenance": [],
      "include_colab_link": true
    }
  },
  "nbformat": 4,
  "nbformat_minor": 5
}